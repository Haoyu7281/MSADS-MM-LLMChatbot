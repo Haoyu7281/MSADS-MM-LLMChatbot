{
 "cells": [
  {
   "cell_type": "code",
   "execution_count": 1,
   "id": "0e0c8e26-47f4-4806-a83b-4b61c35154bc",
   "metadata": {
    "tags": []
   },
   "outputs": [],
   "source": [
    "import pandas as pd\n",
    "import numpy as np\n",
    "import matplotlib.pyplot as plt\n",
    "import seaborn as sns\n",
    "import os\n",
    "import warnings\n",
    "import sys\n",
    "\n",
    "pd.set_option('display.max_columns', None)\n"
   ]
  },
  {
   "cell_type": "code",
   "execution_count": 2,
   "id": "03d2dae8-9103-4961-b212-eaeba6121096",
   "metadata": {
    "tags": []
   },
   "outputs": [],
   "source": [
    "amazon = pd.read_csv(\"../amazon.csv\")"
   ]
  },
  {
   "cell_type": "code",
   "execution_count": 3,
   "id": "a12547ae-7ea2-4334-9419-8312ee276ba1",
   "metadata": {
    "tags": []
   },
   "outputs": [
    {
     "data": {
      "text/html": [
       "<div>\n",
       "<style scoped>\n",
       "    .dataframe tbody tr th:only-of-type {\n",
       "        vertical-align: middle;\n",
       "    }\n",
       "\n",
       "    .dataframe tbody tr th {\n",
       "        vertical-align: top;\n",
       "    }\n",
       "\n",
       "    .dataframe thead th {\n",
       "        text-align: right;\n",
       "    }\n",
       "</style>\n",
       "<table border=\"1\" class=\"dataframe\">\n",
       "  <thead>\n",
       "    <tr style=\"text-align: right;\">\n",
       "      <th></th>\n",
       "      <th>Uniq Id</th>\n",
       "      <th>Product Name</th>\n",
       "      <th>Brand Name</th>\n",
       "      <th>Asin</th>\n",
       "      <th>Category</th>\n",
       "      <th>Upc Ean Code</th>\n",
       "      <th>List Price</th>\n",
       "      <th>Selling Price</th>\n",
       "      <th>Quantity</th>\n",
       "      <th>Model Number</th>\n",
       "      <th>About Product</th>\n",
       "      <th>Product Specification</th>\n",
       "      <th>Technical Details</th>\n",
       "      <th>Shipping Weight</th>\n",
       "      <th>Product Dimensions</th>\n",
       "      <th>Image</th>\n",
       "      <th>Variants</th>\n",
       "      <th>Sku</th>\n",
       "      <th>Product Url</th>\n",
       "      <th>Stock</th>\n",
       "      <th>Product Details</th>\n",
       "      <th>Dimensions</th>\n",
       "      <th>Color</th>\n",
       "      <th>Ingredients</th>\n",
       "      <th>Direction To Use</th>\n",
       "      <th>Is Amazon Seller</th>\n",
       "      <th>Size Quantity Variant</th>\n",
       "      <th>Product Description</th>\n",
       "    </tr>\n",
       "  </thead>\n",
       "  <tbody>\n",
       "    <tr>\n",
       "      <th>0</th>\n",
       "      <td>4c69b61db1fc16e7013b43fc926e502d</td>\n",
       "      <td>DB Longboards CoreFlex Crossbow 41\" Bamboo Fib...</td>\n",
       "      <td>NaN</td>\n",
       "      <td>NaN</td>\n",
       "      <td>Sports &amp; Outdoors | Outdoor Recreation | Skate...</td>\n",
       "      <td>NaN</td>\n",
       "      <td>NaN</td>\n",
       "      <td>$237.68</td>\n",
       "      <td>NaN</td>\n",
       "      <td>NaN</td>\n",
       "      <td>Make sure this fits by entering your model num...</td>\n",
       "      <td>Shipping Weight: 10.7 pounds (View shipping ra...</td>\n",
       "      <td>NaN</td>\n",
       "      <td>10.7 pounds</td>\n",
       "      <td>NaN</td>\n",
       "      <td>https://images-na.ssl-images-amazon.com/images...</td>\n",
       "      <td>https://www.amazon.com/DB-Longboards-CoreFlex-...</td>\n",
       "      <td>NaN</td>\n",
       "      <td>https://www.amazon.com/DB-Longboards-CoreFlex-...</td>\n",
       "      <td>NaN</td>\n",
       "      <td>NaN</td>\n",
       "      <td>NaN</td>\n",
       "      <td>NaN</td>\n",
       "      <td>NaN</td>\n",
       "      <td>NaN</td>\n",
       "      <td>Y</td>\n",
       "      <td>NaN</td>\n",
       "      <td>NaN</td>\n",
       "    </tr>\n",
       "    <tr>\n",
       "      <th>1</th>\n",
       "      <td>66d49bbed043f5be260fa9f7fbff5957</td>\n",
       "      <td>Electronic Snap Circuits Mini Kits Classpack, ...</td>\n",
       "      <td>NaN</td>\n",
       "      <td>NaN</td>\n",
       "      <td>Toys &amp; Games | Learning &amp; Education | Science ...</td>\n",
       "      <td>NaN</td>\n",
       "      <td>NaN</td>\n",
       "      <td>$99.95</td>\n",
       "      <td>NaN</td>\n",
       "      <td>55324</td>\n",
       "      <td>Make sure this fits by entering your model num...</td>\n",
       "      <td>Product Dimensions:         14.7 x 11.1 x 10.2...</td>\n",
       "      <td>The snap circuits mini kits classpack provides...</td>\n",
       "      <td>4 pounds</td>\n",
       "      <td>14.7 x 11.1 x 10.2 inches  4.06 pounds</td>\n",
       "      <td>https://images-na.ssl-images-amazon.com/images...</td>\n",
       "      <td>NaN</td>\n",
       "      <td>NaN</td>\n",
       "      <td>https://www.amazon.com/Electronic-Circuits-Cla...</td>\n",
       "      <td>NaN</td>\n",
       "      <td>NaN</td>\n",
       "      <td>NaN</td>\n",
       "      <td>NaN</td>\n",
       "      <td>NaN</td>\n",
       "      <td>NaN</td>\n",
       "      <td>Y</td>\n",
       "      <td>NaN</td>\n",
       "      <td>NaN</td>\n",
       "    </tr>\n",
       "    <tr>\n",
       "      <th>2</th>\n",
       "      <td>2c55cae269aebf53838484b0d7dd931a</td>\n",
       "      <td>3Doodler Create Flexy 3D Printing Filament Ref...</td>\n",
       "      <td>NaN</td>\n",
       "      <td>NaN</td>\n",
       "      <td>Toys &amp; Games | Arts &amp; Crafts | Craft Kits</td>\n",
       "      <td>NaN</td>\n",
       "      <td>NaN</td>\n",
       "      <td>$34.99</td>\n",
       "      <td>NaN</td>\n",
       "      <td>NaN</td>\n",
       "      <td>Make sure this fits by entering your model num...</td>\n",
       "      <td>ProductDimensions:10.3x3.4x0.8inches|ItemWeigh...</td>\n",
       "      <td>show up to 2 reviews by default No longer are ...</td>\n",
       "      <td>12.8 ounces</td>\n",
       "      <td>NaN</td>\n",
       "      <td>https://images-na.ssl-images-amazon.com/images...</td>\n",
       "      <td>NaN</td>\n",
       "      <td>NaN</td>\n",
       "      <td>https://www.amazon.com/3Doodler-Plastic-Innova...</td>\n",
       "      <td>NaN</td>\n",
       "      <td>NaN</td>\n",
       "      <td>NaN</td>\n",
       "      <td>NaN</td>\n",
       "      <td>NaN</td>\n",
       "      <td>NaN</td>\n",
       "      <td>Y</td>\n",
       "      <td>NaN</td>\n",
       "      <td>NaN</td>\n",
       "    </tr>\n",
       "    <tr>\n",
       "      <th>3</th>\n",
       "      <td>18018b6bc416dab347b1b7db79994afa</td>\n",
       "      <td>Guillow Airplane Design Studio with Travel Cas...</td>\n",
       "      <td>NaN</td>\n",
       "      <td>NaN</td>\n",
       "      <td>Toys &amp; Games | Hobbies | Models &amp; Model Kits |...</td>\n",
       "      <td>NaN</td>\n",
       "      <td>NaN</td>\n",
       "      <td>$28.91</td>\n",
       "      <td>NaN</td>\n",
       "      <td>142</td>\n",
       "      <td>Make 8 different Planes at one time. | Experim...</td>\n",
       "      <td>ProductDimensions:3.5x6.2x13inches|ItemWeight:...</td>\n",
       "      <td>Go to your orders and start the return Select ...</td>\n",
       "      <td>13.4 ounces</td>\n",
       "      <td>NaN</td>\n",
       "      <td>https://images-na.ssl-images-amazon.com/images...</td>\n",
       "      <td>NaN</td>\n",
       "      <td>NaN</td>\n",
       "      <td>https://www.amazon.com/Guillow-Airplane-Design...</td>\n",
       "      <td>NaN</td>\n",
       "      <td>NaN</td>\n",
       "      <td>NaN</td>\n",
       "      <td>NaN</td>\n",
       "      <td>NaN</td>\n",
       "      <td>NaN</td>\n",
       "      <td>Y</td>\n",
       "      <td>NaN</td>\n",
       "      <td>NaN</td>\n",
       "    </tr>\n",
       "    <tr>\n",
       "      <th>4</th>\n",
       "      <td>e04b990e95bf73bbe6a3fa09785d7cd0</td>\n",
       "      <td>Woodstock- Collage 500 pc Puzzle</td>\n",
       "      <td>NaN</td>\n",
       "      <td>NaN</td>\n",
       "      <td>Toys &amp; Games | Puzzles | Jigsaw Puzzles</td>\n",
       "      <td>NaN</td>\n",
       "      <td>NaN</td>\n",
       "      <td>$17.49</td>\n",
       "      <td>NaN</td>\n",
       "      <td>62151</td>\n",
       "      <td>Make sure this fits by entering your model num...</td>\n",
       "      <td>ProductDimensions:1.9x8x10inches|ItemWeight:13...</td>\n",
       "      <td>show up to 2 reviews by default 100% Officiall...</td>\n",
       "      <td>13.4 ounces</td>\n",
       "      <td>NaN</td>\n",
       "      <td>https://images-na.ssl-images-amazon.com/images...</td>\n",
       "      <td>NaN</td>\n",
       "      <td>NaN</td>\n",
       "      <td>https://www.amazon.com/Woodstock-Collage-500-p...</td>\n",
       "      <td>NaN</td>\n",
       "      <td>NaN</td>\n",
       "      <td>NaN</td>\n",
       "      <td>NaN</td>\n",
       "      <td>NaN</td>\n",
       "      <td>NaN</td>\n",
       "      <td>Y</td>\n",
       "      <td>NaN</td>\n",
       "      <td>NaN</td>\n",
       "    </tr>\n",
       "  </tbody>\n",
       "</table>\n",
       "</div>"
      ],
      "text/plain": [
       "                            Uniq Id  \\\n",
       "0  4c69b61db1fc16e7013b43fc926e502d   \n",
       "1  66d49bbed043f5be260fa9f7fbff5957   \n",
       "2  2c55cae269aebf53838484b0d7dd931a   \n",
       "3  18018b6bc416dab347b1b7db79994afa   \n",
       "4  e04b990e95bf73bbe6a3fa09785d7cd0   \n",
       "\n",
       "                                        Product Name  Brand Name  Asin  \\\n",
       "0  DB Longboards CoreFlex Crossbow 41\" Bamboo Fib...         NaN   NaN   \n",
       "1  Electronic Snap Circuits Mini Kits Classpack, ...         NaN   NaN   \n",
       "2  3Doodler Create Flexy 3D Printing Filament Ref...         NaN   NaN   \n",
       "3  Guillow Airplane Design Studio with Travel Cas...         NaN   NaN   \n",
       "4                   Woodstock- Collage 500 pc Puzzle         NaN   NaN   \n",
       "\n",
       "                                            Category Upc Ean Code  List Price  \\\n",
       "0  Sports & Outdoors | Outdoor Recreation | Skate...          NaN         NaN   \n",
       "1  Toys & Games | Learning & Education | Science ...          NaN         NaN   \n",
       "2          Toys & Games | Arts & Crafts | Craft Kits          NaN         NaN   \n",
       "3  Toys & Games | Hobbies | Models & Model Kits |...          NaN         NaN   \n",
       "4            Toys & Games | Puzzles | Jigsaw Puzzles          NaN         NaN   \n",
       "\n",
       "  Selling Price  Quantity Model Number  \\\n",
       "0       $237.68       NaN          NaN   \n",
       "1        $99.95       NaN        55324   \n",
       "2        $34.99       NaN          NaN   \n",
       "3        $28.91       NaN          142   \n",
       "4        $17.49       NaN        62151   \n",
       "\n",
       "                                       About Product  \\\n",
       "0  Make sure this fits by entering your model num...   \n",
       "1  Make sure this fits by entering your model num...   \n",
       "2  Make sure this fits by entering your model num...   \n",
       "3  Make 8 different Planes at one time. | Experim...   \n",
       "4  Make sure this fits by entering your model num...   \n",
       "\n",
       "                               Product Specification  \\\n",
       "0  Shipping Weight: 10.7 pounds (View shipping ra...   \n",
       "1  Product Dimensions:         14.7 x 11.1 x 10.2...   \n",
       "2  ProductDimensions:10.3x3.4x0.8inches|ItemWeigh...   \n",
       "3  ProductDimensions:3.5x6.2x13inches|ItemWeight:...   \n",
       "4  ProductDimensions:1.9x8x10inches|ItemWeight:13...   \n",
       "\n",
       "                                   Technical Details Shipping Weight  \\\n",
       "0                                                NaN     10.7 pounds   \n",
       "1  The snap circuits mini kits classpack provides...        4 pounds   \n",
       "2  show up to 2 reviews by default No longer are ...     12.8 ounces   \n",
       "3  Go to your orders and start the return Select ...     13.4 ounces   \n",
       "4  show up to 2 reviews by default 100% Officiall...     13.4 ounces   \n",
       "\n",
       "                       Product Dimensions  \\\n",
       "0                                     NaN   \n",
       "1  14.7 x 11.1 x 10.2 inches  4.06 pounds   \n",
       "2                                     NaN   \n",
       "3                                     NaN   \n",
       "4                                     NaN   \n",
       "\n",
       "                                               Image  \\\n",
       "0  https://images-na.ssl-images-amazon.com/images...   \n",
       "1  https://images-na.ssl-images-amazon.com/images...   \n",
       "2  https://images-na.ssl-images-amazon.com/images...   \n",
       "3  https://images-na.ssl-images-amazon.com/images...   \n",
       "4  https://images-na.ssl-images-amazon.com/images...   \n",
       "\n",
       "                                            Variants  Sku  \\\n",
       "0  https://www.amazon.com/DB-Longboards-CoreFlex-...  NaN   \n",
       "1                                                NaN  NaN   \n",
       "2                                                NaN  NaN   \n",
       "3                                                NaN  NaN   \n",
       "4                                                NaN  NaN   \n",
       "\n",
       "                                         Product Url  Stock  Product Details  \\\n",
       "0  https://www.amazon.com/DB-Longboards-CoreFlex-...    NaN              NaN   \n",
       "1  https://www.amazon.com/Electronic-Circuits-Cla...    NaN              NaN   \n",
       "2  https://www.amazon.com/3Doodler-Plastic-Innova...    NaN              NaN   \n",
       "3  https://www.amazon.com/Guillow-Airplane-Design...    NaN              NaN   \n",
       "4  https://www.amazon.com/Woodstock-Collage-500-p...    NaN              NaN   \n",
       "\n",
       "   Dimensions  Color  Ingredients  Direction To Use Is Amazon Seller  \\\n",
       "0         NaN    NaN          NaN               NaN                Y   \n",
       "1         NaN    NaN          NaN               NaN                Y   \n",
       "2         NaN    NaN          NaN               NaN                Y   \n",
       "3         NaN    NaN          NaN               NaN                Y   \n",
       "4         NaN    NaN          NaN               NaN                Y   \n",
       "\n",
       "   Size Quantity Variant  Product Description  \n",
       "0                    NaN                  NaN  \n",
       "1                    NaN                  NaN  \n",
       "2                    NaN                  NaN  \n",
       "3                    NaN                  NaN  \n",
       "4                    NaN                  NaN  "
      ]
     },
     "execution_count": 3,
     "metadata": {},
     "output_type": "execute_result"
    }
   ],
   "source": [
    "amazon.head()"
   ]
  },
  {
   "cell_type": "code",
   "execution_count": 4,
   "id": "54140486-8e13-4b20-a88c-46e3afb8d55e",
   "metadata": {
    "tags": []
   },
   "outputs": [
    {
     "data": {
      "text/plain": [
       "(10002, 28)"
      ]
     },
     "execution_count": 4,
     "metadata": {},
     "output_type": "execute_result"
    }
   ],
   "source": [
    "amazon.shape"
   ]
  },
  {
   "cell_type": "code",
   "execution_count": 5,
   "id": "0dc750da-dbfc-4042-83ac-865a62b322c3",
   "metadata": {
    "tags": []
   },
   "outputs": [
    {
     "data": {
      "text/plain": [
       "Uniq Id                      0\n",
       "Product Name                 0\n",
       "Brand Name               10002\n",
       "Asin                     10002\n",
       "Category                   830\n",
       "Upc Ean Code              9968\n",
       "List Price               10002\n",
       "Selling Price              107\n",
       "Quantity                 10002\n",
       "Model Number              1772\n",
       "About Product              273\n",
       "Product Specification     1632\n",
       "Technical Details          790\n",
       "Shipping Weight           1138\n",
       "Product Dimensions        9523\n",
       "Image                        0\n",
       "Variants                  7524\n",
       "Sku                      10002\n",
       "Product Url                  0\n",
       "Stock                    10002\n",
       "Product Details          10002\n",
       "Dimensions               10002\n",
       "Color                    10002\n",
       "Ingredients              10002\n",
       "Direction To Use         10002\n",
       "Is Amazon Seller             0\n",
       "Size Quantity Variant    10002\n",
       "Product Description      10002\n",
       "dtype: int64"
      ]
     },
     "execution_count": 5,
     "metadata": {},
     "output_type": "execute_result"
    }
   ],
   "source": [
    "amazon.isnull().sum()"
   ]
  },
  {
   "cell_type": "code",
   "execution_count": 6,
   "id": "bd2566f2-93c9-479e-ab6d-3fc288cc3ee0",
   "metadata": {
    "tags": []
   },
   "outputs": [],
   "source": [
    "amazon = amazon[[\"Uniq Id\", \"Product Name\", \"Category\", \"Selling Price\", \"About Product\", \"Product Specification\", \\\n",
    "                 \"Technical Details\", \"Shipping Weight\", \"Product Dimensions\", \"Image\", \"Variants\", \"Product Url\"]]"
   ]
  },
  {
   "cell_type": "code",
   "execution_count": 7,
   "id": "8da3b4ff-f663-4372-9801-403a3e436c18",
   "metadata": {
    "tags": []
   },
   "outputs": [],
   "source": [
    "amazon[\"comprehensive_description\"] = (\n",
    "    \"Product Name:\" + amazon[\"Product Name\"].fillna(\"\") + \"\\n\\n\" + \"Category:\" + amazon[\"Category\"].fillna(\"\") + \"\\n\\n\" +\n",
    "    \"Selling Price:\" + amazon[\"Selling Price\"].fillna(\"\") + \"\\n\\n\" + \"About Product:\" + amazon[\"About Product\"].fillna(\"\") +\n",
    "    \"\\n\\n\" + \"Product Specification:\" + amazon[\"Product Specification\"].fillna(\"\") + \"\\n\\n\" + \"Technical Details:\" + \n",
    "    amazon[\"Technical Details\"].fillna(\"\") + \"\\n\\n\" + \"Shipping Weight:\" + amazon[\"Shipping Weight\"].fillna(\"\") + \n",
    "    \"\\n\\n\" + \"Product Dimensions:\" + amazon[\"Product Dimensions\"].fillna(\"\")\n",
    ")"
   ]
  },
  {
   "cell_type": "code",
   "execution_count": 8,
   "id": "4cf6d81e-7a5c-4766-8302-68627dcd8848",
   "metadata": {
    "tags": []
   },
   "outputs": [
    {
     "data": {
      "text/plain": [
       "'Product Name:DB Longboards CoreFlex Crossbow 41\" Bamboo Fiberglass Longboard Complete\\n\\nCategory:Sports & Outdoors | Outdoor Recreation | Skates, Skateboards & Scooters | Skateboarding | Standard Skateboards & Longboards | Longboards\\n\\nSelling Price:$237.68\\n\\nAbout Product:Make sure this fits by entering your model number. | RESPONSIVE FLEX: The Crossbow features a bamboo core encased in triaxial fiberglass and HD plastic for a responsive flex pattern that’s second to none. Pumping & carving have never been so satisfying! Flex 2 is recommended for people 120 to 170 pounds. | COREFLEX TECH: CoreFlex construction is water resistant, impact resistant, scratch resistant and has a flex like you won’t believe. These boards combine fiberglass, epoxy, HD plastic and bamboo to create a perfect blend of performance and strength. | INSPIRED BY THE NORTHWEST: Our founding ideal is chasing adventure & riding the best boards possible, inspired by the hills, waves, beaches & mountains all around our headquarters in the Northwest | BEST IN THE WORLD: DB was founded out of sheer love of longboarding with a mission to create the best custom longboards in the world, to do it sustainably, & to treat customers & employees like family | BEYOND COMPARE: Try our skateboards & accessories if you\\'ve tried similar products by Sector 9, Landyachtz, Arbor, Loaded, Globe, Orangatang, Hawgs, Powell-Peralta, Blood Orange, Caliber or Gullwing\\n\\nProduct Specification:Shipping Weight: 10.7 pounds (View shipping rates and policies)|ASIN: B07KMVJJK7|    #474    in\\xa0Longboards Skateboard\\n\\nTechnical Details:\\n\\nShipping Weight:10.7 pounds\\n\\nProduct Dimensions:'"
      ]
     },
     "execution_count": 8,
     "metadata": {},
     "output_type": "execute_result"
    }
   ],
   "source": [
    "amazon[\"comprehensive_description\"].loc[0]"
   ]
  },
  {
   "cell_type": "code",
   "execution_count": 9,
   "id": "ca9c8dcd-6cac-4ffe-ad87-78a808354850",
   "metadata": {
    "tags": []
   },
   "outputs": [
    {
     "data": {
      "text/plain": [
       "Uniq Id                         0\n",
       "Product Name                    0\n",
       "Category                      830\n",
       "Selling Price                 107\n",
       "About Product                 273\n",
       "Product Specification        1632\n",
       "Technical Details             790\n",
       "Shipping Weight              1138\n",
       "Product Dimensions           9523\n",
       "Image                           0\n",
       "Variants                     7524\n",
       "Product Url                     0\n",
       "comprehensive_description       0\n",
       "dtype: int64"
      ]
     },
     "execution_count": 9,
     "metadata": {},
     "output_type": "execute_result"
    }
   ],
   "source": [
    "amazon.isnull().sum()"
   ]
  },
  {
   "cell_type": "code",
   "execution_count": 10,
   "id": "377df38b-6435-4705-bd23-f2019c7f1629",
   "metadata": {
    "tags": []
   },
   "outputs": [],
   "source": [
    "# image\n",
    "import requests\n",
    "\n",
    "def check_image_url(url):\n",
    "    try:\n",
    "        response = requests.head(url, timeout=5)\n",
    "        return response.status_code == 200\n",
    "    except requests.RequestException:\n",
    "        return False\n",
    "\n",
    "amazon[\"image_valid\"] = amazon[\"Image\"].apply(check_image_url)"
   ]
  },
  {
   "cell_type": "code",
   "execution_count": 11,
   "id": "1ed28f6d-9bb1-441d-89db-ce5d7f12079b",
   "metadata": {
    "tags": []
   },
   "outputs": [
    {
     "data": {
      "text/plain": [
       "image_valid\n",
       "True     9970\n",
       "False      32\n",
       "Name: count, dtype: int64"
      ]
     },
     "execution_count": 11,
     "metadata": {},
     "output_type": "execute_result"
    }
   ],
   "source": [
    "amazon[\"image_valid\"].value_counts()"
   ]
  },
  {
   "cell_type": "code",
   "execution_count": 12,
   "id": "9c68920d-86a8-4595-97bd-90d757361c06",
   "metadata": {
    "tags": []
   },
   "outputs": [],
   "source": [
    "amazon = amazon[amazon[\"image_valid\"]]"
   ]
  },
  {
   "cell_type": "code",
   "execution_count": 19,
   "id": "562759cd-1774-4243-a1e6-6ff4b7146f94",
   "metadata": {
    "tags": []
   },
   "outputs": [
    {
     "name": "stdout",
     "output_type": "stream",
     "text": [
      "Number of duplicates: 0\n"
     ]
    }
   ],
   "source": [
    "duplicate_count = amazon.duplicated(subset=['Uniq Id']).sum()\n",
    "print(f\"Number of duplicates: {duplicate_count}\")"
   ]
  },
  {
   "cell_type": "code",
   "execution_count": 17,
   "id": "7250a6db-e8f4-4020-ae88-29d153977e05",
   "metadata": {
    "tags": []
   },
   "outputs": [],
   "source": [
    "amazon[\"image_filename\"] = amazon[\"Uniq Id\"].astype(str) + \".jpg\""
   ]
  },
  {
   "cell_type": "code",
   "execution_count": 20,
   "id": "f8a5b6d6-f4cf-46de-98e3-d1db344ba433",
   "metadata": {
    "tags": []
   },
   "outputs": [
    {
     "data": {
      "text/plain": [
       "0        None\n",
       "1        None\n",
       "2        None\n",
       "3        None\n",
       "4        None\n",
       "         ... \n",
       "9997     None\n",
       "9998     None\n",
       "9999     None\n",
       "10000    None\n",
       "10001    None\n",
       "Length: 9970, dtype: object"
      ]
     },
     "execution_count": 20,
     "metadata": {},
     "output_type": "execute_result"
    }
   ],
   "source": [
    "# download image\n",
    "from PIL import Image\n",
    "from io import BytesIO\n",
    "\n",
    "os.makedirs(\"image\", exist_ok=True)\n",
    "\n",
    "def download_image(url, filename):\n",
    "    try:\n",
    "        response = requests.get(url, timeout=5)\n",
    "        if response.status_code == 200:\n",
    "            with open(f\"image/{filename}\", \"wb\") as file:\n",
    "                file.write(response.content)\n",
    "    except requests.RequestException:\n",
    "        pass\n",
    "\n",
    "amazon.apply(lambda row: download_image(row[\"Image\"], row[\"image_filename\"]), axis=1)"
   ]
  },
  {
   "cell_type": "code",
   "execution_count": 18,
   "id": "164c047c-c2a4-40f1-8c9b-b921384d5acb",
   "metadata": {},
   "outputs": [],
   "source": [
    "amazon.to_csv(\"./data/amazon_clean.csv\")"
   ]
  },
  {
   "cell_type": "code",
   "execution_count": null,
   "id": "1c504c43-9b0b-4e48-93fb-78e1d8139baa",
   "metadata": {},
   "outputs": [],
   "source": []
  }
 ],
 "metadata": {
  "environment": {
   "kernel": "python3",
   "name": ".m125",
   "type": "gcloud",
   "uri": "us-docker.pkg.dev/deeplearning-platform-release/gcr.io/:m125"
  },
  "kernelspec": {
   "display_name": "Python 3 (Local)",
   "language": "python",
   "name": "python3"
  },
  "language_info": {
   "codemirror_mode": {
    "name": "ipython",
    "version": 3
   },
   "file_extension": ".py",
   "mimetype": "text/x-python",
   "name": "python",
   "nbconvert_exporter": "python",
   "pygments_lexer": "ipython3",
   "version": "3.10.15"
  }
 },
 "nbformat": 4,
 "nbformat_minor": 5
}
