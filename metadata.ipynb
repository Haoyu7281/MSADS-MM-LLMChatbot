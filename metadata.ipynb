{
 "cells": [
  {
   "cell_type": "code",
   "execution_count": 3,
   "id": "1a4209fe-5c2d-408c-8f72-20c54ced682b",
   "metadata": {
    "tags": []
   },
   "outputs": [],
   "source": [
    "import pandas as pd\n",
    "import numpy as np\n",
    "import os\n",
    "import warnings\n",
    "import sys\n",
    "\n",
    "pd.set_option('display.max_columns', None)"
   ]
  },
  {
   "cell_type": "code",
   "execution_count": 10,
   "id": "85fba23e-01ac-4c15-a260-bacb3b36a399",
   "metadata": {
    "tags": []
   },
   "outputs": [
    {
     "data": {
      "text/html": [
       "<div>\n",
       "<style scoped>\n",
       "    .dataframe tbody tr th:only-of-type {\n",
       "        vertical-align: middle;\n",
       "    }\n",
       "\n",
       "    .dataframe tbody tr th {\n",
       "        vertical-align: top;\n",
       "    }\n",
       "\n",
       "    .dataframe thead th {\n",
       "        text-align: right;\n",
       "    }\n",
       "</style>\n",
       "<table border=\"1\" class=\"dataframe\">\n",
       "  <thead>\n",
       "    <tr style=\"text-align: right;\">\n",
       "      <th></th>\n",
       "      <th>Product Name</th>\n",
       "      <th>Category</th>\n",
       "      <th>Selling Price</th>\n",
       "      <th>About Product</th>\n",
       "      <th>Image</th>\n",
       "    </tr>\n",
       "  </thead>\n",
       "  <tbody>\n",
       "    <tr>\n",
       "      <th>0</th>\n",
       "      <td>DB Longboards CoreFlex Crossbow 41\" Bamboo Fib...</td>\n",
       "      <td>Sports &amp; Outdoors | Outdoor Recreation | Skate...</td>\n",
       "      <td>$237.68</td>\n",
       "      <td>Make sure this fits by entering your model num...</td>\n",
       "      <td>https://images-na.ssl-images-amazon.com/images...</td>\n",
       "    </tr>\n",
       "    <tr>\n",
       "      <th>1</th>\n",
       "      <td>Electronic Snap Circuits Mini Kits Classpack, ...</td>\n",
       "      <td>Toys &amp; Games | Learning &amp; Education | Science ...</td>\n",
       "      <td>$99.95</td>\n",
       "      <td>Make sure this fits by entering your model num...</td>\n",
       "      <td>https://images-na.ssl-images-amazon.com/images...</td>\n",
       "    </tr>\n",
       "    <tr>\n",
       "      <th>2</th>\n",
       "      <td>3Doodler Create Flexy 3D Printing Filament Ref...</td>\n",
       "      <td>Toys &amp; Games | Arts &amp; Crafts | Craft Kits</td>\n",
       "      <td>$34.99</td>\n",
       "      <td>Make sure this fits by entering your model num...</td>\n",
       "      <td>https://images-na.ssl-images-amazon.com/images...</td>\n",
       "    </tr>\n",
       "    <tr>\n",
       "      <th>3</th>\n",
       "      <td>Guillow Airplane Design Studio with Travel Cas...</td>\n",
       "      <td>Toys &amp; Games | Hobbies | Models &amp; Model Kits |...</td>\n",
       "      <td>$28.91</td>\n",
       "      <td>Make 8 different Planes at one time. | Experim...</td>\n",
       "      <td>https://images-na.ssl-images-amazon.com/images...</td>\n",
       "    </tr>\n",
       "    <tr>\n",
       "      <th>4</th>\n",
       "      <td>Woodstock- Collage 500 pc Puzzle</td>\n",
       "      <td>Toys &amp; Games | Puzzles | Jigsaw Puzzles</td>\n",
       "      <td>$17.49</td>\n",
       "      <td>Make sure this fits by entering your model num...</td>\n",
       "      <td>https://images-na.ssl-images-amazon.com/images...</td>\n",
       "    </tr>\n",
       "  </tbody>\n",
       "</table>\n",
       "</div>"
      ],
      "text/plain": [
       "                                        Product Name  \\\n",
       "0  DB Longboards CoreFlex Crossbow 41\" Bamboo Fib...   \n",
       "1  Electronic Snap Circuits Mini Kits Classpack, ...   \n",
       "2  3Doodler Create Flexy 3D Printing Filament Ref...   \n",
       "3  Guillow Airplane Design Studio with Travel Cas...   \n",
       "4                   Woodstock- Collage 500 pc Puzzle   \n",
       "\n",
       "                                            Category Selling Price  \\\n",
       "0  Sports & Outdoors | Outdoor Recreation | Skate...       $237.68   \n",
       "1  Toys & Games | Learning & Education | Science ...        $99.95   \n",
       "2          Toys & Games | Arts & Crafts | Craft Kits        $34.99   \n",
       "3  Toys & Games | Hobbies | Models & Model Kits |...        $28.91   \n",
       "4            Toys & Games | Puzzles | Jigsaw Puzzles        $17.49   \n",
       "\n",
       "                                       About Product  \\\n",
       "0  Make sure this fits by entering your model num...   \n",
       "1  Make sure this fits by entering your model num...   \n",
       "2  Make sure this fits by entering your model num...   \n",
       "3  Make 8 different Planes at one time. | Experim...   \n",
       "4  Make sure this fits by entering your model num...   \n",
       "\n",
       "                                               Image  \n",
       "0  https://images-na.ssl-images-amazon.com/images...  \n",
       "1  https://images-na.ssl-images-amazon.com/images...  \n",
       "2  https://images-na.ssl-images-amazon.com/images...  \n",
       "3  https://images-na.ssl-images-amazon.com/images...  \n",
       "4  https://images-na.ssl-images-amazon.com/images...  "
      ]
     },
     "execution_count": 10,
     "metadata": {},
     "output_type": "execute_result"
    }
   ],
   "source": [
    "amazon = pd.read_csv(\"./data/amazon_clean.csv\").iloc[:2000][['Product Name', 'Category', 'Selling Price', 'About Product', 'Image']]\n",
    "amazon.head()"
   ]
  },
  {
   "cell_type": "code",
   "execution_count": 11,
   "id": "8e7b9f86-38fa-4bc8-b1d8-9bcd8b928545",
   "metadata": {
    "tags": []
   },
   "outputs": [
    {
     "data": {
      "text/plain": [
       "(2000, 5)"
      ]
     },
     "execution_count": 11,
     "metadata": {},
     "output_type": "execute_result"
    }
   ],
   "source": [
    "amazon.shape"
   ]
  },
  {
   "cell_type": "code",
   "execution_count": 12,
   "id": "e3d1fb75-504a-4525-8a9e-c222eb22ce13",
   "metadata": {
    "tags": []
   },
   "outputs": [
    {
     "data": {
      "text/plain": [
       "Product Name       0\n",
       "Category         182\n",
       "Selling Price      3\n",
       "About Product     43\n",
       "Image              0\n",
       "dtype: int64"
      ]
     },
     "execution_count": 12,
     "metadata": {},
     "output_type": "execute_result"
    }
   ],
   "source": [
    "amazon.isnull().sum()"
   ]
  },
  {
   "cell_type": "code",
   "execution_count": 14,
   "id": "160e3baf-bc10-4608-9e68-7c8287f299e4",
   "metadata": {
    "tags": []
   },
   "outputs": [
    {
     "data": {
      "text/plain": [
       "(1776, 5)"
      ]
     },
     "execution_count": 14,
     "metadata": {},
     "output_type": "execute_result"
    }
   ],
   "source": [
    "amazon = amazon.dropna()\n",
    "amazon.shape"
   ]
  },
  {
   "cell_type": "code",
   "execution_count": 15,
   "id": "cc983e92-279d-4d91-9421-914a70ea112b",
   "metadata": {
    "tags": []
   },
   "outputs": [],
   "source": [
    "amazon['Category'] = amazon['Category'].str.split('|').apply(lambda x: x[0])"
   ]
  },
  {
   "cell_type": "code",
   "execution_count": 19,
   "id": "7ca4a815-32e7-4f79-bb92-2890f70b61ae",
   "metadata": {
    "tags": []
   },
   "outputs": [
    {
     "data": {
      "text/plain": [
       "0                                                                Make sure this fits by entering your model number. | RESPONSIVE FLEX: The Crossbow features a bamboo core encased in triaxial fiberglass and HD plastic for a responsive flex pattern that’s second to none. Pumping & carving have never been so satisfying! Flex 2 is recommended for people 120 to 170 pounds. | COREFLEX TECH: CoreFlex construction is water resistant, impact resistant, scratch resistant and has a flex like you won’t believe. These boards combine fiberglass, epoxy, HD plastic and bamboo to create a perfect blend of performance and strength. | INSPIRED BY THE NORTHWEST: Our founding ideal is chasing adventure & riding the best boards possible, inspired by the hills, waves, beaches & mountains all around our headquarters in the Northwest | BEST IN THE WORLD: DB was founded out of sheer love of longboarding with a mission to create the best custom longboards in the world, to do it sustainably, & to treat customers & employees like family | BEYOND COMPARE: Try our skateboards & accessories if you've tried similar products by Sector 9, Landyachtz, Arbor, Loaded, Globe, Orangatang, Hawgs, Powell-Peralta, Blood Orange, Caliber or Gullwing\n",
       "1                                                                                                                                                                                                                                                                                                                                                                                                                                                                                                                                                                                                                                                                    Make sure this fits by entering your model number. | Snap circuits mini kits classpack provides basic electronic circuitry activities for students in grades 2-6 | Includes 5 separate mini building kits- an FM radio, a motion detector, music box, space battle sound effects, and a flying saucer | Each kit includes separate components and instructions to build | Each component represents one function in a circuit; components snap together to create working models of everyday electronic devices | Activity guide provides additional projects to teach students how circuitry works\n",
       "2    Make sure this fits by entering your model number. | ✅【Smooth 3D drawing experienced the best 3D drawing experience by only using 3Doodler Create Plastics with 3Doodler Create+ and create 3D Printing pen. | ✅【Safe to use】the 3Doodler Create Plastics, conforms to the health requirements of ASTM-D-4236 & require no additional labelling in accordance with the US Consumer Product safety Commission’s Regulations as mandated by Labeling of Hazardous Art Materials Act (LHAMA). | 👍【3Doodler very own Type of plastic】the FLEXY plastic takes creativity to new levels! You can make flexible fun 3D creations! | 🌍【Environmentally friendly】3doodler create Plastic is made of corn and are 100% compostable! | ✅【125 strands of drawing fun】this bundle includes 5 refill filament packs, that's a total of 1043 ft. Of 3D drawing and doodling fun! | 📱【The 3Doodler app】get an interactive experience! The app is packed with dedicated easy to follow stencil section and step by step interactive instructions, receive badges for completed projects and photograph & share YOUR creations directly on social media. The app is fully built on iOS & Android. | ✅【All your favorite colors】this pack includes: green, blue, pink, orange & yellow\n",
       "3                                                                                                                                                                                                                                                                                                                                                                                                                                                                                                                                                                                                                                                                                                                                                                                                                                                                                                                                                                                                                Make 8 different Planes at one time. | Experiment with different designs and learn about flight. | All contained in Part trays inside an attractive box with carry handle! | Guillow's - your one source for flying toys since 1926. | Made in the USA.\n",
       "4                                                                                                                                                                                                                                                                                                                                                                                                                                                                                                                                                                                                                                                                                                                                                                                                                                                                                                                                                                                                                                                                                 Make sure this fits by entering your model number. | Puzzle has 500 pieces | Completed puzzle measure 14 x 19 | 100% officially licensed merchandise | Great for fans & puzzlers alike\n",
       "Name: About Product, dtype: object"
      ]
     },
     "execution_count": 19,
     "metadata": {},
     "output_type": "execute_result"
    }
   ],
   "source": [
    "pd.set_option('display.max_colwidth', None)\n",
    "amazon['About Product'].head()"
   ]
  },
  {
   "cell_type": "code",
   "execution_count": 20,
   "id": "80b0bc39-8cdd-4b19-a05d-7f27dd1fb73b",
   "metadata": {
    "tags": []
   },
   "outputs": [],
   "source": [
    "amazon['About Product'] = amazon['About Product'].str.split('|').apply(\n",
    "    lambda x: ''.join(part.strip() for part in x[1:-1]) if isinstance(x, list) and len(x) > 1 else ''\n",
    ")"
   ]
  },
  {
   "cell_type": "code",
   "execution_count": 22,
   "id": "e42acd34-8189-4e5a-b11a-a39c1e1ef827",
   "metadata": {
    "tags": []
   },
   "outputs": [],
   "source": [
    "import re\n",
    "\n",
    "amazon['About Product'] = amazon['About Product'].apply(\n",
    "    lambda x: re.sub(r\"[^\\w\\s.,'\\\"&()\\-:]+\", \"\", x) if isinstance(x, str) else x\n",
    ")"
   ]
  },
  {
   "cell_type": "code",
   "execution_count": 23,
   "id": "395a730f-1d0b-4f32-95f0-52b3b4cffbc4",
   "metadata": {
    "tags": []
   },
   "outputs": [
    {
     "data": {
      "text/plain": [
       "0                                                                                                                                                         RESPONSIVE FLEX: The Crossbow features a bamboo core encased in triaxial fiberglass and HD plastic for a responsive flex pattern thats second to none. Pumping & carving have never been so satisfying Flex 2 is recommended for people 120 to 170 pounds.COREFLEX TECH: CoreFlex construction is water resistant, impact resistant, scratch resistant and has a flex like you wont believe. These boards combine fiberglass, epoxy, HD plastic and bamboo to create a perfect blend of performance and strength.INSPIRED BY THE NORTHWEST: Our founding ideal is chasing adventure & riding the best boards possible, inspired by the hills, waves, beaches & mountains all around our headquarters in the NorthwestBEST IN THE WORLD: DB was founded out of sheer love of longboarding with a mission to create the best custom longboards in the world, to do it sustainably, & to treat customers & employees like family\n",
       "1                                                                                                                                                                                                                                                                                                                                                                                                                                                                                                                                                                                                                                      Snap circuits mini kits classpack provides basic electronic circuitry activities for students in grades 2-6Includes 5 separate mini building kits- an FM radio, a motion detector, music box, space battle sound effects, and a flying saucerEach kit includes separate components and instructions to buildEach component represents one function in a circuit components snap together to create working models of everyday electronic devices\n",
       "2    Smooth 3D drawing experienced the best 3D drawing experience by only using 3Doodler Create Plastics with 3Doodler Create and create 3D Printing pen.Safe to usethe 3Doodler Create Plastics, conforms to the health requirements of ASTM-D-4236 & require no additional labelling in accordance with the US Consumer Product safety Commissions Regulations as mandated by Labeling of Hazardous Art Materials Act (LHAMA).3Doodler very own Type of plasticthe FLEXY plastic takes creativity to new levels You can make flexible fun 3D creationsEnvironmentally friendly3doodler create Plastic is made of corn and are 100 compostable125 strands of drawing funthis bundle includes 5 refill filament packs, that's a total of 1043 ft. Of 3D drawing and doodling funThe 3Doodler appget an interactive experience The app is packed with dedicated easy to follow stencil section and step by step interactive instructions, receive badges for completed projects and photograph & share YOUR creations directly on social media. The app is fully built on iOS & Android.\n",
       "3                                                                                                                                                                                                                                                                                                                                                                                                                                                                                                                                                                                                                                                                                                                                                                                                                                                                                                Experiment with different designs and learn about flight.All contained in Part trays inside an attractive box with carry handleGuillow's - your one source for flying toys since 1926.\n",
       "4                                                                                                                                                                                                                                                                                                                                                                                                                                                                                                                                                                                                                                                                                                                                                                                                                                                                                                                                                                                              Puzzle has 500 piecesCompleted puzzle measure 14 x 19100 officially licensed merchandise\n",
       "Name: About Product, dtype: object"
      ]
     },
     "execution_count": 23,
     "metadata": {},
     "output_type": "execute_result"
    }
   ],
   "source": [
    "amazon['About Product'].head()"
   ]
  },
  {
   "cell_type": "code",
   "execution_count": 24,
   "id": "6d5fb540-79b1-4184-b992-8afe607e0191",
   "metadata": {
    "tags": []
   },
   "outputs": [
    {
     "data": {
      "text/plain": [
       "0                                           DB Longboards CoreFlex Crossbow 41\" Bamboo Fiberglass Longboard Complete\n",
       "1                      Electronic Snap Circuits Mini Kits Classpack, FM Radio, Motion Detector, Music Box (Set of 5)\n",
       "2    3Doodler Create Flexy 3D Printing Filament Refill Bundle (X5 Pack, Over 1000'. of Extruded Plastics! - Innovate\n",
       "3                                                       Guillow Airplane Design Studio with Travel Case Building Kit\n",
       "4                                                                                   Woodstock- Collage 500 pc Puzzle\n",
       "Name: Product Name, dtype: object"
      ]
     },
     "execution_count": 24,
     "metadata": {},
     "output_type": "execute_result"
    }
   ],
   "source": [
    "amazon['Product Name'].head()"
   ]
  },
  {
   "cell_type": "code",
   "execution_count": 26,
   "id": "7a26fdcc-3a05-4986-b4a8-02eb2d5f5e63",
   "metadata": {
    "tags": []
   },
   "outputs": [],
   "source": [
    "amazon['Image'] = amazon['Image'].str.split('|').apply(lambda x: x[0])"
   ]
  },
  {
   "cell_type": "code",
   "execution_count": 27,
   "id": "e3c56fef-196e-44eb-bf9f-1ab3fef42b74",
   "metadata": {
    "tags": []
   },
   "outputs": [
    {
     "data": {
      "text/plain": [
       "0    https://images-na.ssl-images-amazon.com/images/I/51j3fPQTQkL.jpg\n",
       "1    https://images-na.ssl-images-amazon.com/images/I/51M0KnJxjKL.jpg\n",
       "2    https://images-na.ssl-images-amazon.com/images/I/513cBC8PqpL.jpg\n",
       "3    https://images-na.ssl-images-amazon.com/images/I/516UijZMilL.jpg\n",
       "4    https://images-na.ssl-images-amazon.com/images/I/61plo8Xv4vL.jpg\n",
       "Name: Image, dtype: object"
      ]
     },
     "execution_count": 27,
     "metadata": {},
     "output_type": "execute_result"
    }
   ],
   "source": [
    "amazon['Image'].head()"
   ]
  },
  {
   "cell_type": "code",
   "execution_count": 28,
   "id": "a1a1a08b-6ca7-42c4-93f7-81f889dd26ab",
   "metadata": {
    "tags": []
   },
   "outputs": [
    {
     "data": {
      "text/html": [
       "<div>\n",
       "<style scoped>\n",
       "    .dataframe tbody tr th:only-of-type {\n",
       "        vertical-align: middle;\n",
       "    }\n",
       "\n",
       "    .dataframe tbody tr th {\n",
       "        vertical-align: top;\n",
       "    }\n",
       "\n",
       "    .dataframe thead th {\n",
       "        text-align: right;\n",
       "    }\n",
       "</style>\n",
       "<table border=\"1\" class=\"dataframe\">\n",
       "  <thead>\n",
       "    <tr style=\"text-align: right;\">\n",
       "      <th></th>\n",
       "      <th>Product Name</th>\n",
       "      <th>Category</th>\n",
       "      <th>Selling Price</th>\n",
       "      <th>About Product</th>\n",
       "      <th>Image</th>\n",
       "    </tr>\n",
       "  </thead>\n",
       "  <tbody>\n",
       "    <tr>\n",
       "      <th>0</th>\n",
       "      <td>DB Longboards CoreFlex Crossbow 41\" Bamboo Fiberglass Longboard Complete</td>\n",
       "      <td>Sports &amp; Outdoors</td>\n",
       "      <td>$237.68</td>\n",
       "      <td>RESPONSIVE FLEX: The Crossbow features a bamboo core encased in triaxial fiberglass and HD plastic for a responsive flex pattern thats second to none. Pumping &amp; carving have never been so satisfying Flex 2 is recommended for people 120 to 170 pounds.COREFLEX TECH: CoreFlex construction is water resistant, impact resistant, scratch resistant and has a flex like you wont believe. These boards combine fiberglass, epoxy, HD plastic and bamboo to create a perfect blend of performance and strength.INSPIRED BY THE NORTHWEST: Our founding ideal is chasing adventure &amp; riding the best boards possible, inspired by the hills, waves, beaches &amp; mountains all around our headquarters in the NorthwestBEST IN THE WORLD: DB was founded out of sheer love of longboarding with a mission to create the best custom longboards in the world, to do it sustainably, &amp; to treat customers &amp; employees like family</td>\n",
       "      <td>https://images-na.ssl-images-amazon.com/images/I/51j3fPQTQkL.jpg</td>\n",
       "    </tr>\n",
       "    <tr>\n",
       "      <th>1</th>\n",
       "      <td>Electronic Snap Circuits Mini Kits Classpack, FM Radio, Motion Detector, Music Box (Set of 5)</td>\n",
       "      <td>Toys &amp; Games</td>\n",
       "      <td>$99.95</td>\n",
       "      <td>Snap circuits mini kits classpack provides basic electronic circuitry activities for students in grades 2-6Includes 5 separate mini building kits- an FM radio, a motion detector, music box, space battle sound effects, and a flying saucerEach kit includes separate components and instructions to buildEach component represents one function in a circuit components snap together to create working models of everyday electronic devices</td>\n",
       "      <td>https://images-na.ssl-images-amazon.com/images/I/51M0KnJxjKL.jpg</td>\n",
       "    </tr>\n",
       "    <tr>\n",
       "      <th>2</th>\n",
       "      <td>3Doodler Create Flexy 3D Printing Filament Refill Bundle (X5 Pack, Over 1000'. of Extruded Plastics! - Innovate</td>\n",
       "      <td>Toys &amp; Games</td>\n",
       "      <td>$34.99</td>\n",
       "      <td>Smooth 3D drawing experienced the best 3D drawing experience by only using 3Doodler Create Plastics with 3Doodler Create and create 3D Printing pen.Safe to usethe 3Doodler Create Plastics, conforms to the health requirements of ASTM-D-4236 &amp; require no additional labelling in accordance with the US Consumer Product safety Commissions Regulations as mandated by Labeling of Hazardous Art Materials Act (LHAMA).3Doodler very own Type of plasticthe FLEXY plastic takes creativity to new levels You can make flexible fun 3D creationsEnvironmentally friendly3doodler create Plastic is made of corn and are 100 compostable125 strands of drawing funthis bundle includes 5 refill filament packs, that's a total of 1043 ft. Of 3D drawing and doodling funThe 3Doodler appget an interactive experience The app is packed with dedicated easy to follow stencil section and step by step interactive instructions, receive badges for completed projects and photograph &amp; share YOUR creations directly on social media. The app is fully built on iOS &amp; Android.</td>\n",
       "      <td>https://images-na.ssl-images-amazon.com/images/I/513cBC8PqpL.jpg</td>\n",
       "    </tr>\n",
       "    <tr>\n",
       "      <th>3</th>\n",
       "      <td>Guillow Airplane Design Studio with Travel Case Building Kit</td>\n",
       "      <td>Toys &amp; Games</td>\n",
       "      <td>$28.91</td>\n",
       "      <td>Experiment with different designs and learn about flight.All contained in Part trays inside an attractive box with carry handleGuillow's - your one source for flying toys since 1926.</td>\n",
       "      <td>https://images-na.ssl-images-amazon.com/images/I/516UijZMilL.jpg</td>\n",
       "    </tr>\n",
       "    <tr>\n",
       "      <th>4</th>\n",
       "      <td>Woodstock- Collage 500 pc Puzzle</td>\n",
       "      <td>Toys &amp; Games</td>\n",
       "      <td>$17.49</td>\n",
       "      <td>Puzzle has 500 piecesCompleted puzzle measure 14 x 19100 officially licensed merchandise</td>\n",
       "      <td>https://images-na.ssl-images-amazon.com/images/I/61plo8Xv4vL.jpg</td>\n",
       "    </tr>\n",
       "  </tbody>\n",
       "</table>\n",
       "</div>"
      ],
      "text/plain": [
       "                                                                                                      Product Name  \\\n",
       "0                                         DB Longboards CoreFlex Crossbow 41\" Bamboo Fiberglass Longboard Complete   \n",
       "1                    Electronic Snap Circuits Mini Kits Classpack, FM Radio, Motion Detector, Music Box (Set of 5)   \n",
       "2  3Doodler Create Flexy 3D Printing Filament Refill Bundle (X5 Pack, Over 1000'. of Extruded Plastics! - Innovate   \n",
       "3                                                     Guillow Airplane Design Studio with Travel Case Building Kit   \n",
       "4                                                                                 Woodstock- Collage 500 pc Puzzle   \n",
       "\n",
       "             Category Selling Price  \\\n",
       "0  Sports & Outdoors        $237.68   \n",
       "1       Toys & Games         $99.95   \n",
       "2       Toys & Games         $34.99   \n",
       "3       Toys & Games         $28.91   \n",
       "4       Toys & Games         $17.49   \n",
       "\n",
       "                                                                                                                                                                                                                                                                                                                                                                                                                                                                                                                                                                                                                                                                                                                                                                                                                                                                                                                                                                                                                                                                        About Product  \\\n",
       "0                                                                                                                                                       RESPONSIVE FLEX: The Crossbow features a bamboo core encased in triaxial fiberglass and HD plastic for a responsive flex pattern thats second to none. Pumping & carving have never been so satisfying Flex 2 is recommended for people 120 to 170 pounds.COREFLEX TECH: CoreFlex construction is water resistant, impact resistant, scratch resistant and has a flex like you wont believe. These boards combine fiberglass, epoxy, HD plastic and bamboo to create a perfect blend of performance and strength.INSPIRED BY THE NORTHWEST: Our founding ideal is chasing adventure & riding the best boards possible, inspired by the hills, waves, beaches & mountains all around our headquarters in the NorthwestBEST IN THE WORLD: DB was founded out of sheer love of longboarding with a mission to create the best custom longboards in the world, to do it sustainably, & to treat customers & employees like family   \n",
       "1                                                                                                                                                                                                                                                                                                                                                                                                                                                                                                                                                                                                                                    Snap circuits mini kits classpack provides basic electronic circuitry activities for students in grades 2-6Includes 5 separate mini building kits- an FM radio, a motion detector, music box, space battle sound effects, and a flying saucerEach kit includes separate components and instructions to buildEach component represents one function in a circuit components snap together to create working models of everyday electronic devices   \n",
       "2  Smooth 3D drawing experienced the best 3D drawing experience by only using 3Doodler Create Plastics with 3Doodler Create and create 3D Printing pen.Safe to usethe 3Doodler Create Plastics, conforms to the health requirements of ASTM-D-4236 & require no additional labelling in accordance with the US Consumer Product safety Commissions Regulations as mandated by Labeling of Hazardous Art Materials Act (LHAMA).3Doodler very own Type of plasticthe FLEXY plastic takes creativity to new levels You can make flexible fun 3D creationsEnvironmentally friendly3doodler create Plastic is made of corn and are 100 compostable125 strands of drawing funthis bundle includes 5 refill filament packs, that's a total of 1043 ft. Of 3D drawing and doodling funThe 3Doodler appget an interactive experience The app is packed with dedicated easy to follow stencil section and step by step interactive instructions, receive badges for completed projects and photograph & share YOUR creations directly on social media. The app is fully built on iOS & Android.   \n",
       "3                                                                                                                                                                                                                                                                                                                                                                                                                                                                                                                                                                                                                                                                                                                                                                                                                                                                                              Experiment with different designs and learn about flight.All contained in Part trays inside an attractive box with carry handleGuillow's - your one source for flying toys since 1926.   \n",
       "4                                                                                                                                                                                                                                                                                                                                                                                                                                                                                                                                                                                                                                                                                                                                                                                                                                                                                                                                                                                            Puzzle has 500 piecesCompleted puzzle measure 14 x 19100 officially licensed merchandise   \n",
       "\n",
       "                                                              Image  \n",
       "0  https://images-na.ssl-images-amazon.com/images/I/51j3fPQTQkL.jpg  \n",
       "1  https://images-na.ssl-images-amazon.com/images/I/51M0KnJxjKL.jpg  \n",
       "2  https://images-na.ssl-images-amazon.com/images/I/513cBC8PqpL.jpg  \n",
       "3  https://images-na.ssl-images-amazon.com/images/I/516UijZMilL.jpg  \n",
       "4  https://images-na.ssl-images-amazon.com/images/I/61plo8Xv4vL.jpg  "
      ]
     },
     "execution_count": 28,
     "metadata": {},
     "output_type": "execute_result"
    }
   ],
   "source": [
    "amazon.head()"
   ]
  },
  {
   "cell_type": "code",
   "execution_count": 29,
   "id": "cd4da8a3-ccde-4cf9-9b13-add6a5e00b00",
   "metadata": {
    "tags": []
   },
   "outputs": [],
   "source": [
    "amazon['Text_Description'] = (\n",
    "    amazon['Product Name'] + '|' +\n",
    "    amazon['Category'] + '|' +\n",
    "    amazon['About Product'] + '|' +\n",
    "    amazon['Selling Price']\n",
    ")"
   ]
  },
  {
   "cell_type": "code",
   "execution_count": 30,
   "id": "d4f5752e-7235-40d5-86bc-17a7f1888efa",
   "metadata": {
    "tags": []
   },
   "outputs": [],
   "source": [
    "metadata = amazon[['Image', 'Text_Description']]"
   ]
  },
  {
   "cell_type": "code",
   "execution_count": 31,
   "id": "6f2d0eec-d305-4c8f-a2c7-551f738134f9",
   "metadata": {
    "tags": []
   },
   "outputs": [],
   "source": [
    "metadata.to_csv('metadata.csv')"
   ]
  },
  {
   "cell_type": "code",
   "execution_count": null,
   "id": "c3769b23-5a4d-435f-b324-f24058e79e1f",
   "metadata": {},
   "outputs": [],
   "source": []
  }
 ],
 "metadata": {
  "environment": {
   "kernel": "env_jason",
   "name": ".m125",
   "type": "gcloud",
   "uri": "us-docker.pkg.dev/deeplearning-platform-release/gcr.io/:m125"
  },
  "kernelspec": {
   "display_name": "env_jason (Local)",
   "language": "python",
   "name": "env_jason"
  },
  "language_info": {
   "codemirror_mode": {
    "name": "ipython",
    "version": 3
   },
   "file_extension": ".py",
   "mimetype": "text/x-python",
   "name": "python",
   "nbconvert_exporter": "python",
   "pygments_lexer": "ipython3",
   "version": "3.8.20"
  }
 },
 "nbformat": 4,
 "nbformat_minor": 5
}
